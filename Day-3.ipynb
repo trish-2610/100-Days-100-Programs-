{
 "cells": [
  {
   "cell_type": "markdown",
   "metadata": {},
   "source": [
    "### Write a program to calculate area of triangle and area of square "
   ]
  },
  {
   "cell_type": "code",
   "execution_count": 4,
   "metadata": {},
   "outputs": [
    {
     "name": "stdout",
     "output_type": "stream",
     "text": [
      "Area of triangle with base 10 cm and height 15 cm is = 75.0\n",
      "Area of square with side 8 cm is = 64\n"
     ]
    }
   ],
   "source": [
    "# input \n",
    "base = eval(input(\"Enter base value : \"))\n",
    "height = eval(input(\"Enter height : \"))\n",
    "side = eval(input(\"Enter side (for square) :\"))\n",
    "\n",
    "# area of triangle \n",
    "area_triangle = 0.5 * base * height \n",
    "\n",
    "# area of square \n",
    "area_square = side * side  # side ** 2\n",
    "\n",
    "print(f\"Area of triangle with base {base} cm and height {height} cm is = {area_triangle}\")\n",
    "print(f\"Area of square with side {side} cm is = {area_square}\")"
   ]
  },
  {
   "cell_type": "code",
   "execution_count": null,
   "metadata": {},
   "outputs": [],
   "source": []
  }
 ],
 "metadata": {
  "kernelspec": {
   "display_name": "base",
   "language": "python",
   "name": "python3"
  },
  "language_info": {
   "codemirror_mode": {
    "name": "ipython",
    "version": 3
   },
   "file_extension": ".py",
   "mimetype": "text/x-python",
   "name": "python",
   "nbconvert_exporter": "python",
   "pygments_lexer": "ipython3",
   "version": "3.11.4"
  }
 },
 "nbformat": 4,
 "nbformat_minor": 2
}
