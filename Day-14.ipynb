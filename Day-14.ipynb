{
 "cells": [
  {
   "cell_type": "markdown",
   "metadata": {},
   "source": [
    "### Write a Python Program to Check Prime Number.\n",
    "### Prime Numbers:\n",
    "### A prime number is a whole number that cannot be evenly divided by any other numberexcept for 1 and itself. For example, 2, 3, 5, 7, 11, and 13 are prime numbers because theycannot be divided by any other positive integer except for 1 and their own value."
   ]
  },
  {
   "cell_type": "code",
   "execution_count": 15,
   "metadata": {},
   "outputs": [
    {
     "name": "stdout",
     "output_type": "stream",
     "text": [
      "20 is Not a prime number \n"
     ]
    }
   ],
   "source": [
    "num = int(input(\"Enter number : \"))\n",
    "\n",
    "flag = False \n",
    "\n",
    "if num == 1 :\n",
    "    print(f\"{num} is Not a prime number \")\n",
    "elif num > 1 :\n",
    "    for i in range(2,num):\n",
    "        if(num % i) == 0 :\n",
    "            flag =True\n",
    "            break\n",
    "\n",
    "if flag :\n",
    "    print(f\"{num} is Not a prime number \")\n",
    "else :\n",
    "    print(f\"{num} is a prime number \")"
   ]
  }
 ],
 "metadata": {
  "kernelspec": {
   "display_name": "base",
   "language": "python",
   "name": "python3"
  },
  "language_info": {
   "codemirror_mode": {
    "name": "ipython",
    "version": 3
   },
   "file_extension": ".py",
   "mimetype": "text/x-python",
   "name": "python",
   "nbconvert_exporter": "python",
   "pygments_lexer": "ipython3",
   "version": "3.11.4"
  }
 },
 "nbformat": 4,
 "nbformat_minor": 2
}
