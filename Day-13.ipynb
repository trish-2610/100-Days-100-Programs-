{
 "cells": [
  {
   "cell_type": "markdown",
   "metadata": {},
   "source": [
    "#### Write a Python Program to Check Leap Year."
   ]
  },
  {
   "cell_type": "code",
   "execution_count": 17,
   "metadata": {},
   "outputs": [
    {
     "name": "stdout",
     "output_type": "stream",
     "text": [
      "2004 is a Leap year\n"
     ]
    }
   ],
   "source": [
    "year = int(input(\"Enter year : \"))\n",
    "\n",
    "# divisible by 100 means century year(ends with 00)\n",
    "# divisible by 400 means leap year \n",
    "if (year % 400)==0 and (year % 100)==0:\n",
    "    print(f\" {year} is a Leap year\")\n",
    "\n",
    "# not divisible by 100 means not a century year\n",
    "# divisible by 4 means leap year\n",
    "elif (year % 4)==0 and (year % 100)!=0:\n",
    "    print(f\"{year} is a Leap year\")\n",
    "\n",
    "# not divisible by 4 and 100\n",
    "else :\n",
    "    print(f\"{year} is not a leap year\")"
   ]
  }
 ],
 "metadata": {
  "kernelspec": {
   "display_name": "base",
   "language": "python",
   "name": "python3"
  },
  "language_info": {
   "codemirror_mode": {
    "name": "ipython",
    "version": 3
   },
   "file_extension": ".py",
   "mimetype": "text/x-python",
   "name": "python",
   "nbconvert_exporter": "python",
   "pygments_lexer": "ipython3",
   "version": "3.11.4"
  }
 },
 "nbformat": 4,
 "nbformat_minor": 2
}
