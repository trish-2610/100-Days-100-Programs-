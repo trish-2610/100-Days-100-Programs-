{
 "cells": [
  {
   "cell_type": "markdown",
   "metadata": {},
   "source": [
    "### Write a Python program to solve quadratic equation.\n",
    "### The standard form of a quadratic equation is:\n",
    "### where\n",
    "### a, b and c are real numbers and\n",
    "### The solutions of this quadratic equation is given by:\n",
    "### 𝑎𝑥^2 + 𝑏𝑥 + 𝑐 = 0 \n",
    "### 𝑎 ≠ 0\n",
    "### (−𝑏 ± (𝑏 − 4𝑎𝑐 )^1/2/(2𝑎))"
   ]
  },
  {
   "cell_type": "code",
   "execution_count": 5,
   "metadata": {},
   "outputs": [
    {
     "name": "stdout",
     "output_type": "stream",
     "text": [
      "root 1 = -2.0 + 2.0i\n",
      "root 2 = -2.0 - 2.0i\n"
     ]
    }
   ],
   "source": [
    "import math \n",
    "\n",
    "# input coefficients \n",
    "a = float(input(\"Enter value of a :\"))\n",
    "b = float(input(\"Enter value of b :\"))\n",
    "c = float(input(\"Enter value of b :\"))\n",
    "\n",
    "#calculating discriminant \n",
    "discriminant =  (b**2) - (4*a*c) \n",
    "\n",
    "# checking if discriminant is positive , negative or zero \n",
    "\n",
    "if discriminant > 0 :\n",
    "    # two real and distinct roots \n",
    "    root1 = ((-b) + math.sqrt(discriminant) / (2*a))\n",
    "    root2 = ((-b) - math.sqrt(discriminant) / (2*a))\n",
    "    print(f\"root 1 = {root1}\")\n",
    "    print(f\"root 2 = {root2}\")\n",
    "\n",
    "elif discriminant == 0 :\n",
    "    # only one real root\n",
    "    root = (-b) / (2*a)\n",
    "    print(f\"root = {root}\")\n",
    "\n",
    "else :\n",
    "    # complex roots \n",
    "    real_part = (-b) / (2*a)\n",
    "    imag_part = math.sqrt(abs(discriminant)) / (2*a)\n",
    "    print(f\"root 1 = {real_part} + {imag_part}i\")\n",
    "    print(f\"root 2 = {real_part} - {imag_part}i\")\n"
   ]
  }
 ],
 "metadata": {
  "kernelspec": {
   "display_name": "base",
   "language": "python",
   "name": "python3"
  },
  "language_info": {
   "codemirror_mode": {
    "name": "ipython",
    "version": 3
   },
   "file_extension": ".py",
   "mimetype": "text/x-python",
   "name": "python",
   "nbconvert_exporter": "python",
   "pygments_lexer": "ipython3",
   "version": "3.11.4"
  }
 },
 "nbformat": 4,
 "nbformat_minor": 2
}
