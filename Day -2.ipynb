{
 "cells": [
  {
   "cell_type": "markdown",
   "metadata": {},
   "source": [
    "### Write a program to do arithmetic operation addition and division "
   ]
  },
  {
   "cell_type": "code",
   "execution_count": 5,
   "metadata": {},
   "outputs": [
    {
     "name": "stdout",
     "output_type": "stream",
     "text": [
      "Addition = 12\n",
      "Division = 0.2\n"
     ]
    }
   ],
   "source": [
    "## Addition \n",
    "a = eval(input(\"Enter first number : \"))\n",
    "b = eval(input(\"Enter Second number : \"))\n",
    "print(f\"Addition = {a+b}\")\n",
    "\n",
    "## Division \n",
    "if b == 0:\n",
    "    print(\"Can't divide by 0 \")\n",
    "else :\n",
    "    print(f\"Division = {a/b}\")"
   ]
  },
  {
   "cell_type": "code",
   "execution_count": null,
   "metadata": {},
   "outputs": [],
   "source": []
  }
 ],
 "metadata": {
  "kernelspec": {
   "display_name": "base",
   "language": "python",
   "name": "python3"
  },
  "language_info": {
   "codemirror_mode": {
    "name": "ipython",
    "version": 3
   },
   "file_extension": ".py",
   "mimetype": "text/x-python",
   "name": "python",
   "nbconvert_exporter": "python",
   "pygments_lexer": "ipython3",
   "version": "3.11.4"
  }
 },
 "nbformat": 4,
 "nbformat_minor": 2
}
