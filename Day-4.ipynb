{
 "cells": [
  {
   "cell_type": "markdown",
   "metadata": {},
   "source": [
    "### Write a python program to swap two variables "
   ]
  },
  {
   "cell_type": "code",
   "execution_count": 1,
   "metadata": {},
   "outputs": [
    {
     "name": "stdout",
     "output_type": "stream",
     "text": [
      "Before Swapping a = 12 and b = 90\n",
      "After Swapping a = 90 and b = 12\n"
     ]
    }
   ],
   "source": [
    "# input \n",
    "a = int(input(\"Enter value of a : \"))\n",
    "b = int(input(\"Enter value of b : \"))\n",
    "# Before wapping \n",
    "print(f\"Before Swapping a = {a} and b = {b}\")\n",
    "# swapping \n",
    "temp = a \n",
    "a = b \n",
    "b = temp \n",
    "# After swapping\n",
    "print(f\"After Swapping a = {a} and b = {b}\")"
   ]
  },
  {
   "cell_type": "code",
   "execution_count": 4,
   "metadata": {},
   "outputs": [
    {
     "name": "stdout",
     "output_type": "stream",
     "text": [
      "Before Swapping a = 10 and b = 20\n",
      "After Swapping a = 20 and b = 10\n"
     ]
    }
   ],
   "source": [
    "## without using another variable \n",
    "a = int(input(\"Enter value of a : \"))\n",
    "b = int(input(\"Enter value of b : \"))\n",
    "print(f\"Before Swapping a = {a} and b = {b}\")\n",
    "a = a + b\n",
    "b = a - b \n",
    "a = a - b\n",
    "print(f\"After Swapping a = {a} and b = {b}\")"
   ]
  },
  {
   "cell_type": "code",
   "execution_count": null,
   "metadata": {},
   "outputs": [],
   "source": []
  }
 ],
 "metadata": {
  "kernelspec": {
   "display_name": "base",
   "language": "python",
   "name": "python3"
  },
  "language_info": {
   "codemirror_mode": {
    "name": "ipython",
    "version": 3
   },
   "file_extension": ".py",
   "mimetype": "text/x-python",
   "name": "python",
   "nbconvert_exporter": "python",
   "pygments_lexer": "ipython3",
   "version": "3.11.4"
  }
 },
 "nbformat": 4,
 "nbformat_minor": 2
}
