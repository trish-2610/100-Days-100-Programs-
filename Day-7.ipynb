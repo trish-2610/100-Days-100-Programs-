{
 "cells": [
  {
   "cell_type": "markdown",
   "metadata": {},
   "source": [
    "### Write a program to convert Celsius into Fahrenheit  "
   ]
  },
  {
   "cell_type": "code",
   "execution_count": 2,
   "metadata": {},
   "outputs": [
    {
     "name": "stdout",
     "output_type": "stream",
     "text": [
      "38.25 celsius is equal to 100.85 fahrenheit\n"
     ]
    }
   ],
   "source": [
    "# input\n",
    "celsius = float(input(\"Enter Temperature in Celsius : \"))\n",
    "# 1 fahrenheit = (celsius * 9/5) + 32\n",
    "fahrenheit = (celsius * 9/5) + 32 \n",
    "print(f\"{celsius} celsius is equal to {fahrenheit} fahrenheit\")"
   ]
  }
 ],
 "metadata": {
  "kernelspec": {
   "display_name": "base",
   "language": "python",
   "name": "python3"
  },
  "language_info": {
   "codemirror_mode": {
    "name": "ipython",
    "version": 3
   },
   "file_extension": ".py",
   "mimetype": "text/x-python",
   "name": "python",
   "nbconvert_exporter": "python",
   "pygments_lexer": "ipython3",
   "version": "3.11.4"
  }
 },
 "nbformat": 4,
 "nbformat_minor": 2
}
