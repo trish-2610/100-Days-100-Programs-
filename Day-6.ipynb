{
 "cells": [
  {
   "cell_type": "markdown",
   "metadata": {},
   "source": [
    "### Write a program to convert kilometers into miles "
   ]
  },
  {
   "cell_type": "code",
   "execution_count": 3,
   "metadata": {},
   "outputs": [
    {
     "name": "stdout",
     "output_type": "stream",
     "text": [
      "100.0 km in miles is equal to 62.137100000000004 miles\n"
     ]
    }
   ],
   "source": [
    "#input\n",
    "kilometers = float(input(\"Enter distance in kilometers(k.m.) =  \"))\n",
    "# 1 km = 0.621371 miles \n",
    "Conversion_factor = 0.621371\n",
    "miles = kilometers * Conversion_factor \n",
    "print(f\"{kilometers} km in miles is equal to {miles} miles\")"
   ]
  },
  {
   "cell_type": "code",
   "execution_count": null,
   "metadata": {},
   "outputs": [],
   "source": []
  }
 ],
 "metadata": {
  "kernelspec": {
   "display_name": "base",
   "language": "python",
   "name": "python3"
  },
  "language_info": {
   "codemirror_mode": {
    "name": "ipython",
    "version": 3
   },
   "file_extension": ".py",
   "mimetype": "text/x-python",
   "name": "python",
   "nbconvert_exporter": "python",
   "pygments_lexer": "ipython3",
   "version": "3.11.4"
  }
 },
 "nbformat": 4,
 "nbformat_minor": 2
}
